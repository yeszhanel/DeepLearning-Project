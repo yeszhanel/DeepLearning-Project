{
  "metadata": {
    "kernelspec": {
      "display_name": "Python 3",
      "language": "python",
      "name": "python3"
    },
    "language_info": {
      "name": "python",
      "version": "3.6.6",
      "mimetype": "text/x-python",
      "codemirror_mode": {
        "name": "ipython",
        "version": 3
      },
      "pygments_lexer": "ipython3",
      "nbconvert_exporter": "python",
      "file_extension": ".py"
    },
    "colab": {
      "provenance": []
    }
  },
  "nbformat_minor": 0,
  "nbformat": 4,
  "cells": [
    {
      "cell_type": "code",
      "source": [
        "import numpy as np # linear algebra\n",
        "import pandas as pd # data processing, CSV file I/O (e.g. pd.read_csv)\n",
        "\n",
        "# Input data files are available in the \"../input/\" directory.\n",
        "# For example, running this (by clicking run or pressing Shift+Enter) will list the files in the input directory\n",
        "from pathlib import Path\n",
        "import os\n",
        "import pandas as pd\n",
        "import librosa\n",
        "from librosa import display as dsp\n",
        "from matplotlib import pyplot as plt\n",
        "from keras.utils import to_categorical\n",
        "from keras_preprocessing.sequence import pad_sequences\n",
        "from sklearn.preprocessing import LabelEncoder\n",
        "from sklearn.model_selection import train_test_split\n",
        "from keras.models import Sequential\n",
        "\n",
        "# Any results you write to the current directory are saved as output."
      ],
      "metadata": {
        "_uuid": "8f2839f25d086af736a60e9eeb907d3b93b6e0e5",
        "_cell_guid": "b1076dfc-b9ad-4769-8c92-a6c4dae69d19",
        "execution": {
          "iopub.status.busy": "2022-11-25T04:16:54.649021Z",
          "iopub.execute_input": "2022-11-25T04:16:54.649498Z",
          "iopub.status.idle": "2022-11-25T04:16:56.636882Z",
          "shell.execute_reply.started": "2022-11-25T04:16:54.649435Z",
          "shell.execute_reply": "2022-11-25T04:16:56.635575Z"
        },
        "trusted": true,
        "id": "kTVP6A502TGd",
        "outputId": "8e699051-edb1-4db3-93fc-bd923c6c47ea"
      },
      "execution_count": null,
      "outputs": [
        {
          "name": "stderr",
          "text": "Using TensorFlow backend.\n",
          "output_type": "stream"
        }
      ]
    },
    {
      "cell_type": "code",
      "source": [
        "INPUT_DIR = '/kaggle/input/GuitarNotes/GuitarNotes/'\n",
        "OUTPUT_DIR = '/kaggle/working/'\n",
        "\n",
        "# Print names of 10 WAV files from the input path\n",
        "parent_list = os.listdir(INPUT_DIR)\n",
        "for i in range(10):\n",
        "    print(parent_list[i])\n",
        "soundFilesList=os.listdir('../input/GuitarNotes/GuitarNotes/')"
      ],
      "metadata": {
        "_cell_guid": "79c7e3d0-c299-4dcb-8224-4455121ee9b0",
        "_uuid": "d629ff2d2480ee46fbb7e2d37f6b5fab8052498a",
        "execution": {
          "iopub.status.busy": "2022-11-25T04:16:57.896898Z",
          "iopub.execute_input": "2022-11-25T04:16:57.897263Z",
          "iopub.status.idle": "2022-11-25T04:16:57.921896Z",
          "shell.execute_reply.started": "2022-11-25T04:16:57.897183Z",
          "shell.execute_reply": "2022-11-25T04:16:57.920798Z"
        },
        "trusted": true,
        "id": "_ZHbut612TGs",
        "outputId": "f5feb4ef-7f60-4515-ee27-7ee9f0497e19"
      },
      "execution_count": null,
      "outputs": [
        {
          "name": "stdout",
          "text": "G0.wav\nElo3.wav\nElo4.wav\nA7.wav\nB7.wav\nG7.wav\nA8.wav\n(Scale7) Ti.wav\nB4.wav\nEhi1.wav\n",
          "output_type": "stream"
        }
      ]
    },
    {
      "cell_type": "code",
      "source": [
        "def manipulate(data, speed_factor):\n",
        "    return librosa.effects.time_stretch(data, speed_factor)"
      ],
      "metadata": {
        "execution": {
          "iopub.status.busy": "2022-11-24T14:26:30.766763Z",
          "iopub.execute_input": "2022-11-24T14:26:30.767111Z",
          "iopub.status.idle": "2022-11-24T14:26:30.772170Z",
          "shell.execute_reply.started": "2022-11-24T14:26:30.767059Z",
          "shell.execute_reply": "2022-11-24T14:26:30.771094Z"
        },
        "trusted": true,
        "id": "xJvC00PW2TGv"
      },
      "execution_count": null,
      "outputs": []
    },
    {
      "cell_type": "code",
      "source": [
        "def manipulate(data, noise_factor):\n",
        "    noise = np.random.randn(len(data))\n",
        "    augmented_data = data + noise_factor * noise\n",
        "    # Cast back to same data type\n",
        "    augmented_data = augmented_data.astype(type(data[0]))\n",
        "    return augmented_data\n",
        "\n",
        "soundLabel=[]\n",
        "soundData=[]\n",
        "rawData=[]\n",
        "baseDir=INPUT_DIR\n",
        "mfccSingularList=list()\n",
        "for file in soundFilesList:\n",
        "    filename = str.split(file,'.')[0]\n",
        "    tempAudioData=list()\n",
        "    audioData,sampleRate=librosa.core.load(baseDir+file,res_type='kaiser_fast')\n",
        "    rawData.append(audioData)\n",
        "    spectralData=librosa.feature.spectral_bandwidth(y=audioData,sr=sampleRate)\n",
        "    for sd in spectralData:\n",
        "        tempAudioData.append(sd)\n",
        "    soundData.append(tempAudioData)\n",
        "    soundLabel.append(filename)\n",
        "\n",
        "    tempAudioData1=list()\n",
        "    augmentedData1 = manipulate(audioData, 0.0001)\n",
        "    rawData.append(augmentedData1)\n",
        "    spectralData=librosa.feature.spectral_bandwidth(y=augmentedData1,sr=sampleRate)\n",
        "    for sd in spectralData:\n",
        "        tempAudioData1.append(sd)\n",
        "    soundData.append(tempAudioData1)\n",
        "    soundLabel.append(filename)\n",
        "\n",
        "    tempAudioData2=list()\n",
        "    augmentedData2 = manipulate(audioData, 0.00001)\n",
        "    rawData.append(augmentedData2)\n",
        "    spectralData=librosa.feature.spectral_bandwidth(y=augmentedData2,sr=sampleRate)\n",
        "    for sd in spectralData:\n",
        "        tempAudioData2.append(sd)\n",
        "    soundData.append(tempAudioData2)\n",
        "    soundLabel.append(filename)\n",
        "\n",
        "    tempAudioData3=list()\n",
        "    augmentedData3 = manipulate(audioData, 0.00002)\n",
        "    rawData.append(augmentedData3)\n",
        "    spectralData=librosa.feature.spectral_bandwidth(y=augmentedData3,sr=sampleRate)\n",
        "    for sd in spectralData:\n",
        "        tempAudioData3.append(sd)\n",
        "    soundData.append(tempAudioData3)\n",
        "    soundLabel.append(filename)\n",
        "\n",
        "    tempAudioData4=list()\n",
        "    augmentedData4 = manipulate(audioData, 0.000004)\n",
        "    rawData.append(augmentedData4)\n",
        "    spectralData=librosa.feature.spectral_bandwidth(y=augmentedData4,sr=sampleRate)\n",
        "    for sd in spectralData:\n",
        "        tempAudioData4.append(sd)\n",
        "    soundData.append(tempAudioData4)\n",
        "    soundLabel.append(filename)    \n",
        "    \n",
        "    tempAudioData5=list()\n",
        "    augmentedData5 = manipulate(audioData, 0.000013)\n",
        "    rawData.append(augmentedData5)\n",
        "    spectralData=librosa.feature.spectral_bandwidth(y=augmentedData5,sr=sampleRate)\n",
        "    for sd in spectralData:\n",
        "        tempAudioData5.append(sd)\n",
        "    soundData.append(tempAudioData5)\n",
        "    soundLabel.append(filename)\n",
        "\n",
        "    tempAudioData6=list()\n",
        "    augmentedData6 = manipulate(audioData, 0.000053)\n",
        "    rawData.append(augmentedData6)\n",
        "    spectralData=librosa.feature.spectral_bandwidth(y=augmentedData6,sr=sampleRate)\n",
        "    for sd in spectralData:\n",
        "        tempAudioData6.append(sd)\n",
        "    soundData.append(tempAudioData6)\n",
        "    soundLabel.append(filename)\n",
        "\n",
        "    tempAudioData7=list()\n",
        "    augmentedData7 = manipulate(audioData, 0.0003)\n",
        "    rawData.append(augmentedData7)\n",
        "    spectralData=librosa.feature.spectral_bandwidth(y=augmentedData7,sr=sampleRate)\n",
        "    for sd in spectralData:\n",
        "        tempAudioData7.append(sd)\n",
        "    soundData.append(tempAudioData7)\n",
        "    soundLabel.append(filename)\n",
        "\n",
        "    tempAudioData8=list()\n",
        "    augmentedData8 = manipulate(audioData, 0.00009)\n",
        "    rawData.append(augmentedData8)\n",
        "    spectralData=librosa.feature.spectral_bandwidth(y=augmentedData8,sr=sampleRate)\n",
        "    for sd in spectralData:\n",
        "        tempAudioData8.append(sd)\n",
        "    soundData.append(tempAudioData8)\n",
        "    soundLabel.append(filename)\n",
        "\n",
        "\n",
        "print('Done')"
      ],
      "metadata": {
        "_uuid": "72c9a8aac1b93a2b10865ddd95209fcfc6778f01",
        "execution": {
          "iopub.status.busy": "2022-11-25T04:17:00.998066Z",
          "iopub.execute_input": "2022-11-25T04:17:00.998456Z",
          "iopub.status.idle": "2022-11-25T04:17:10.537779Z",
          "shell.execute_reply.started": "2022-11-25T04:17:00.998388Z",
          "shell.execute_reply": "2022-11-25T04:17:10.536553Z"
        },
        "trusted": true,
        "id": "0xkEl1ut2TGx",
        "outputId": "d4195ab6-8be9-4cc3-b975-5ac516595b65"
      },
      "execution_count": null,
      "outputs": [
        {
          "name": "stdout",
          "text": "Done\n",
          "output_type": "stream"
        }
      ]
    },
    {
      "cell_type": "code",
      "source": [
        "idx=61\n",
        "plt.plot(rawData[idx])\n",
        "plt.xlabel(soundLabel[idx])\n",
        "plt.show()\n",
        "plt.plot(soundData[idx][0])\n",
        "plt.grid()\n",
        "plt.show()"
      ],
      "metadata": {
        "_uuid": "81f12e7c1a26fc80ecc188e4d8c3e7c65aa442f2",
        "execution": {
          "iopub.status.busy": "2022-11-24T11:47:48.833488Z",
          "iopub.execute_input": "2022-11-24T11:47:48.833904Z",
          "iopub.status.idle": "2022-11-24T11:47:49.409022Z",
          "shell.execute_reply.started": "2022-11-24T11:47:48.833828Z",
          "shell.execute_reply": "2022-11-24T11:47:49.405767Z"
        },
        "trusted": true,
        "id": "GKSz09mZ2TG0",
        "outputId": "1ac655a5-33d6-45a1-cf08-f5525b8a2a2f"
      },
      "execution_count": null,
      "outputs": [
        {
          "output_type": "display_data",
          "data": {
            "text/plain": "<Figure size 432x288 with 1 Axes>",
            "image/png": "[encoded data removed]"
          },
          "metadata": {
            "needs_background": "light"
          }
        },
        {
          "output_type": "display_data",
          "data": {
            "text/plain": "<Figure size 432x288 with 1 Axes>",
            "image/png": "[encoded data removed]"
          },
          "metadata": {
            "needs_background": "light"
          }
        }
      ]
    },
    {
      "cell_type": "code",
      "source": [
        "idx=123\n",
        "plt.plot(rawData[idx])\n",
        "plt.xlabel(soundLabel[idx])\n",
        "plt.show()\n",
        "plt.plot(soundData[idx][0])\n",
        "plt.grid()\n",
        "plt.show()"
      ],
      "metadata": {
        "execution": {
          "iopub.status.busy": "2022-11-24T11:47:39.580279Z",
          "iopub.execute_input": "2022-11-24T11:47:39.581100Z",
          "iopub.status.idle": "2022-11-24T11:47:40.374579Z",
          "shell.execute_reply.started": "2022-11-24T11:47:39.580970Z",
          "shell.execute_reply": "2022-11-24T11:47:40.373366Z"
        },
        "trusted": true,
        "id": "i7Q0aoMU2TG2",
        "outputId": "341b7841-b62f-4fc2-a2aa-0644d064ede8"
      },
      "execution_count": null,
      "outputs": [
        {
          "output_type": "display_data",
          "data": {
            "text/plain": "<Figure size 432x288 with 1 Axes>",
            "image/png": "[encoded data removed]"
          },
          "metadata": {
            "needs_background": "light"
          }
        },
        {
          "output_type": "display_data",
          "data": {
            "text/plain": "<Figure size 432x288 with 1 Axes>",
            "image/png": "[encoded data removed]"
          },
          "metadata": {
            "needs_background": "light"
          }
        }
      ]
    },
    {
      "cell_type": "code",
      "source": [
        "X=[]\n",
        "for s in soundData:\n",
        "    for val in s:\n",
        "        X.append(val)"
      ],
      "metadata": {
        "_uuid": "7408d5f9c98d687825a9ba15a7bda07afd6695f0",
        "execution": {
          "iopub.status.busy": "2022-11-25T04:17:13.749133Z",
          "iopub.execute_input": "2022-11-25T04:17:13.749455Z",
          "iopub.status.idle": "2022-11-25T04:17:13.754764Z",
          "shell.execute_reply.started": "2022-11-25T04:17:13.749405Z",
          "shell.execute_reply": "2022-11-25T04:17:13.753692Z"
        },
        "trusted": true,
        "id": "sCXc8shM2TG4"
      },
      "execution_count": null,
      "outputs": []
    },
    {
      "cell_type": "code",
      "source": [
        "print(max([len(x) for x in X]))\n",
        "maxlen=max([len(x) for x in X])\n",
        "X=pad_sequences(X,maxlen=maxlen)\n",
        "np.shape(X)"
      ],
      "metadata": {
        "_uuid": "72d42c26e49c45b172efa6a6bad326421732da5a",
        "execution": {
          "iopub.status.busy": "2022-11-25T04:17:16.083599Z",
          "iopub.execute_input": "2022-11-25T04:17:16.083945Z",
          "iopub.status.idle": "2022-11-25T04:17:16.099932Z",
          "shell.execute_reply.started": "2022-11-25T04:17:16.083893Z",
          "shell.execute_reply": "2022-11-25T04:17:16.098900Z"
        },
        "trusted": true,
        "id": "VlQl3CJH2TG5",
        "outputId": "16513751-6822-4e52-ffe0-ff2079419614"
      },
      "execution_count": null,
      "outputs": [
        {
          "name": "stdout",
          "text": "154\n",
          "output_type": "stream"
        },
        {
          "execution_count": 9,
          "output_type": "execute_result",
          "data": {
            "text/plain": "(558, 154)"
          },
          "metadata": {}
        }
      ]
    },
    {
      "cell_type": "code",
      "source": [
        "idx1,idx2=np.random.randint(len(X)),np.random.randint(len(X))\n",
        "plt.scatter(X[idx1],X[idx2],c=['r','b'],alpha=0.5)\n",
        "plt.xlabel(soundLabel[idx1])\n",
        "plt.ylabel(soundLabel[idx2])\n",
        "plt.show()"
      ],
      "metadata": {
        "_uuid": "d8c073049525a4e1b09da137bce785dfd72bfbb8",
        "execution": {
          "iopub.status.busy": "2022-11-24T11:11:24.244702Z",
          "iopub.execute_input": "2022-11-24T11:11:24.245127Z",
          "iopub.status.idle": "2022-11-24T11:11:24.596825Z",
          "shell.execute_reply.started": "2022-11-24T11:11:24.245058Z",
          "shell.execute_reply": "2022-11-24T11:11:24.595716Z"
        },
        "trusted": true,
        "id": "y45hu1v52TG6",
        "outputId": "69e24c85-53b2-4d58-9725-411cf8e38387"
      },
      "execution_count": null,
      "outputs": [
        {
          "output_type": "display_data",
          "data": {
            "text/plain": "<Figure size 432x288 with 1 Axes>",
            "image/png": "[encoded data removed]"
          },
          "metadata": {
            "needs_background": "light"
          }
        }
      ]
    },
    {
      "cell_type": "code",
      "source": [
        "idx=np.random.randint(len(X))\n",
        "plt.plot(soundData[idx][0])\n",
        "plt.ylabel(soundLabel[idx])\n",
        "plt.grid()\n",
        "plt.show()"
      ],
      "metadata": {
        "_uuid": "d62896fa999ea49386852f01146598cde99d4e8d",
        "execution": {
          "iopub.status.busy": "2022-11-24T11:11:28.357382Z",
          "iopub.execute_input": "2022-11-24T11:11:28.357719Z",
          "iopub.status.idle": "2022-11-24T11:11:28.584096Z",
          "shell.execute_reply.started": "2022-11-24T11:11:28.357674Z",
          "shell.execute_reply": "2022-11-24T11:11:28.582697Z"
        },
        "trusted": true,
        "id": "vqzOrl8N2TG8",
        "outputId": "4abab61f-3dd5-4ac4-9205-baf4b398cf3c"
      },
      "execution_count": null,
      "outputs": [
        {
          "output_type": "display_data",
          "data": {
            "text/plain": "<Figure size 432x288 with 1 Axes>",
            "image/png": "[encoded data removed]"
          },
          "metadata": {
            "needs_background": "light"
          }
        }
      ]
    },
    {
      "cell_type": "code",
      "source": [
        "np.shape(X)"
      ],
      "metadata": {
        "_uuid": "e565e3811884b281b1638c13ab2300f984922423",
        "execution": {
          "iopub.status.busy": "2022-11-24T11:11:33.743584Z",
          "iopub.execute_input": "2022-11-24T11:11:33.744134Z",
          "iopub.status.idle": "2022-11-24T11:11:33.750255Z",
          "shell.execute_reply.started": "2022-11-24T11:11:33.744079Z",
          "shell.execute_reply": "2022-11-24T11:11:33.749133Z"
        },
        "trusted": true,
        "id": "u70TRJFq2TG9",
        "outputId": "6b094cff-6e46-4935-abc0-f2e16f0da1ea"
      },
      "execution_count": null,
      "outputs": [
        {
          "execution_count": 84,
          "output_type": "execute_result",
          "data": {
            "text/plain": "(124, 1540)"
          },
          "metadata": {}
        }
      ]
    },
    {
      "cell_type": "code",
      "source": [
        "num_classes=len(set(soundLabel))\n",
        "num_classes"
      ],
      "metadata": {
        "_uuid": "a0b665c870cd6c77bde97fe3d3e8eac884fd1cbd",
        "execution": {
          "iopub.status.busy": "2022-11-24T22:46:13.347656Z",
          "iopub.execute_input": "2022-11-24T22:46:13.348208Z",
          "iopub.status.idle": "2022-11-24T22:46:13.355329Z",
          "shell.execute_reply.started": "2022-11-24T22:46:13.348151Z",
          "shell.execute_reply": "2022-11-24T22:46:13.354441Z"
        },
        "trusted": true,
        "id": "p4bXGxed2TG_",
        "outputId": "331cd71e-7639-4588-8fa1-1f19117f83d5"
      },
      "execution_count": null,
      "outputs": [
        {
          "execution_count": 7,
          "output_type": "execute_result",
          "data": {
            "text/plain": "62"
          },
          "metadata": {}
        }
      ]
    },
    {
      "cell_type": "code",
      "source": [
        "targetLabelEncoder=LabelEncoder()\n",
        "y=targetLabelEncoder.fit_transform(soundLabel)\n",
        "#X=X.reshape(X.shape[0],X.shape[1],1)\n",
        "#y=to_categorical(y=target,num_classes=num_classes)\n",
        "#input_shape=(X.shape[1],1)"
      ],
      "metadata": {
        "_uuid": "cd1cfb68edfd87c89898c4648bf8035684149ede",
        "execution": {
          "iopub.status.busy": "2022-11-25T04:17:21.520238Z",
          "iopub.execute_input": "2022-11-25T04:17:21.520610Z",
          "iopub.status.idle": "2022-11-25T04:17:21.526330Z",
          "shell.execute_reply.started": "2022-11-25T04:17:21.520540Z",
          "shell.execute_reply": "2022-11-25T04:17:21.525268Z"
        },
        "trusted": true,
        "id": "4gYkCH6U2THA"
      },
      "execution_count": null,
      "outputs": []
    },
    {
      "cell_type": "code",
      "source": [
        "np.shape(X),np.shape(y)"
      ],
      "metadata": {
        "_uuid": "ddfda6666131c892d8cc8a6a59f3079ebc78f933",
        "execution": {
          "iopub.status.busy": "2022-11-24T22:48:13.170249Z",
          "iopub.execute_input": "2022-11-24T22:48:13.170577Z",
          "iopub.status.idle": "2022-11-24T22:48:13.177182Z",
          "shell.execute_reply.started": "2022-11-24T22:48:13.170535Z",
          "shell.execute_reply": "2022-11-24T22:48:13.176061Z"
        },
        "trusted": true,
        "id": "XBkg1B3f2THH",
        "outputId": "6372759b-da91-4fd6-da44-b0b1658aee24"
      },
      "execution_count": null,
      "outputs": [
        {
          "execution_count": 17,
          "output_type": "execute_result",
          "data": {
            "text/plain": "((558, 154), (558,))"
          },
          "metadata": {}
        }
      ]
    },
    {
      "cell_type": "code",
      "source": [
        "y[0]"
      ],
      "metadata": {
        "execution": {
          "iopub.status.busy": "2022-11-24T11:11:47.509729Z",
          "iopub.execute_input": "2022-11-24T11:11:47.510115Z",
          "iopub.status.idle": "2022-11-24T11:11:47.517043Z",
          "shell.execute_reply.started": "2022-11-24T11:11:47.510058Z",
          "shell.execute_reply": "2022-11-24T11:11:47.515455Z"
        },
        "trusted": true,
        "id": "ERchtMFO2THJ",
        "outputId": "0c57580d-2ef9-4fce-e553-83cf3e59712f"
      },
      "execution_count": null,
      "outputs": [
        {
          "execution_count": 88,
          "output_type": "execute_result",
          "data": {
            "text/plain": "53"
          },
          "metadata": {}
        }
      ]
    },
    {
      "cell_type": "code",
      "source": [
        "from sklearn.svm import SVC\n",
        "from sklearn.neural_network import MLPClassifier\n",
        "from sklearn.linear_model import LogisticRegression, LinearRegression,SGDClassifier\n",
        "from sklearn.pipeline import Pipeline\n",
        "from sklearn.ensemble import RandomForestClassifier\n",
        "from sklearn.svm import LinearSVC\n",
        "from sklearn.preprocessing import LabelEncoder, StandardScaler\n",
        "from sklearn.model_selection import cross_validate, train_test_split\n",
        "from tensorflow.keras.models import load_model\n",
        "from tensorflow.keras.callbacks import EarlyStopping, LearningRateScheduler, ModelCheckpoint\n",
        "from tensorflow.keras.optimizers import Adam\n",
        "from tensorflow.keras.layers import Dense, Flatten, LSTM, Input, Dropout, BatchNormalization, GRU\n",
        "from tensorflow.keras import Model\n",
        "from tensorflow.keras.wrappers.scikit_learn import KerasClassifier"
      ],
      "metadata": {
        "_uuid": "b17cccfa949921b3cb23244060d46f71af2dd4ee",
        "execution": {
          "iopub.status.busy": "2022-11-25T04:19:39.011064Z",
          "iopub.execute_input": "2022-11-25T04:19:39.011413Z",
          "iopub.status.idle": "2022-11-25T04:19:39.020352Z",
          "shell.execute_reply.started": "2022-11-25T04:19:39.011361Z",
          "shell.execute_reply": "2022-11-25T04:19:39.018394Z"
        },
        "trusted": true,
        "id": "FI1BqTfr2THK"
      },
      "execution_count": null,
      "outputs": []
    },
    {
      "cell_type": "code",
      "source": [
        "X_train,X_test,y_train,y_test=train_test_split(X,y,train_size=0.80,test_size=0.20,random_state=43)\n",
        "\n",
        "LC= LogisticRegression()\n",
        "LC.fit(X_train,y_train)\n",
        "print('Accuracy:', LC.score(X_test,y_test))"
      ],
      "metadata": {
        "_uuid": "71ed309463e2b42f9f402ca33dd99224b3e68f73",
        "execution": {
          "iopub.status.busy": "2022-11-25T04:18:28.530982Z",
          "iopub.execute_input": "2022-11-25T04:18:28.531653Z",
          "iopub.status.idle": "2022-11-25T04:18:31.106467Z",
          "shell.execute_reply.started": "2022-11-25T04:18:28.531550Z",
          "shell.execute_reply": "2022-11-25T04:18:31.105398Z"
        },
        "trusted": true,
        "id": "Nyln3fdg2THL",
        "outputId": "e3221a59-0cfb-431c-802a-cce7005b6c60"
      },
      "execution_count": null,
      "outputs": [
        {
          "name": "stdout",
          "text": "Accuracy: 0.8392857142857143\n",
          "output_type": "stream"
        }
      ]
    },
    {
      "cell_type": "code",
      "source": [
        "\n",
        "pl_log_reg = Pipeline(steps=[('scaler',StandardScaler()),\n",
        "                             ('log_reg', LogisticRegression(multi_class='multinomial', solver='saga', max_iter=100))])\n",
        "scoring = {'acc': 'accuracy',\n",
        "           'rec': 'recall_macro',\n",
        "           'prec': 'precision_macro'}\n",
        "scores = cross_validate(pl_log_reg, X, y,scoring=scoring, cv=4)\n",
        "avg_scores = {}\n",
        "for mets, vals in scores.items():\n",
        "   \n",
        "    avg_scores[mets] = sum(vals)/ float(len(vals))\n",
        "    \n",
        "print(f\"Accuracy: {avg_scores['test_acc']}\")\n",
        "print(f\"Recall: {avg_scores['test_rec']}\")\n",
        "print(f\"Precision: {avg_scores['test_prec']}\")"
      ],
      "metadata": {
        "execution": {
          "iopub.status.busy": "2022-11-24T23:03:43.743108Z",
          "iopub.execute_input": "2022-11-24T23:03:43.743564Z",
          "iopub.status.idle": "2022-11-24T23:03:55.293271Z",
          "shell.execute_reply.started": "2022-11-24T23:03:43.743497Z",
          "shell.execute_reply": "2022-11-24T23:03:55.291371Z"
        },
        "trusted": true,
        "id": "Ubt5xLRw2THM",
        "outputId": "0c55e367-9b0e-4c85-f143-ff8306ff9449"
      },
      "execution_count": null,
      "outputs": [
        {
          "name": "stderr",
          "text": "/opt/conda/lib/python3.6/site-packages/sklearn/utils/validation.py:475: DataConversionWarning: Data with input dtype int32 was converted to float64 by StandardScaler.\n  warnings.warn(msg, DataConversionWarning)\n/opt/conda/lib/python3.6/site-packages/sklearn/linear_model/sag.py:326: ConvergenceWarning: The max_iter was reached which means the coef_ did not converge\n  \"the coef_ did not converge\", ConvergenceWarning)\n/opt/conda/lib/python3.6/site-packages/sklearn/metrics/classification.py:1135: UndefinedMetricWarning: Precision is ill-defined and being set to 0.0 in labels with no predicted samples.\n  'precision', 'predicted', average, warn_for)\n/opt/conda/lib/python3.6/site-packages/sklearn/utils/validation.py:475: DataConversionWarning: Data with input dtype int32 was converted to float64 by StandardScaler.\n  warnings.warn(msg, DataConversionWarning)\n/opt/conda/lib/python3.6/site-packages/sklearn/linear_model/sag.py:326: ConvergenceWarning: The max_iter was reached which means the coef_ did not converge\n  \"the coef_ did not converge\", ConvergenceWarning)\n/opt/conda/lib/python3.6/site-packages/sklearn/metrics/classification.py:1135: UndefinedMetricWarning: Precision is ill-defined and being set to 0.0 in labels with no predicted samples.\n  'precision', 'predicted', average, warn_for)\n/opt/conda/lib/python3.6/site-packages/sklearn/utils/validation.py:475: DataConversionWarning: Data with input dtype int32 was converted to float64 by StandardScaler.\n  warnings.warn(msg, DataConversionWarning)\n/opt/conda/lib/python3.6/site-packages/sklearn/linear_model/sag.py:326: ConvergenceWarning: The max_iter was reached which means the coef_ did not converge\n  \"the coef_ did not converge\", ConvergenceWarning)\n/opt/conda/lib/python3.6/site-packages/sklearn/metrics/classification.py:1135: UndefinedMetricWarning: Precision is ill-defined and being set to 0.0 in labels with no predicted samples.\n  'precision', 'predicted', average, warn_for)\n/opt/conda/lib/python3.6/site-packages/sklearn/utils/validation.py:475: DataConversionWarning: Data with input dtype int32 was converted to float64 by StandardScaler.\n  warnings.warn(msg, DataConversionWarning)\n",
          "output_type": "stream"
        },
        {
          "name": "stdout",
          "text": "Accuracy: 0.8051075268817205\nRecall: 0.8051075268817205\nPrecision: 0.7777649769585253\n",
          "output_type": "stream"
        },
        {
          "name": "stderr",
          "text": "/opt/conda/lib/python3.6/site-packages/sklearn/linear_model/sag.py:326: ConvergenceWarning: The max_iter was reached which means the coef_ did not converge\n  \"the coef_ did not converge\", ConvergenceWarning)\n/opt/conda/lib/python3.6/site-packages/sklearn/metrics/classification.py:1135: UndefinedMetricWarning: Precision is ill-defined and being set to 0.0 in labels with no predicted samples.\n  'precision', 'predicted', average, warn_for)\n",
          "output_type": "stream"
        }
      ]
    },
    {
      "cell_type": "code",
      "source": [
        "pl_svm = Pipeline(steps=[('scaler',StandardScaler()),\n",
        "                             ('pl_svm', LinearSVC())])\n",
        "scoring = {'acc': 'accuracy',\n",
        "           'rec': 'recall_macro',\n",
        "           'prec': 'precision_macro'}\n",
        "scores = cross_validate(pl_svm, X, y, cv=4,scoring=scoring)\n",
        "avg_scores = {}\n",
        "for mets, vals in scores.items():\n",
        "   \n",
        "    avg_scores[mets] = sum(vals)/ float(len(vals))\n",
        "    \n",
        "print(f\"Accuracy: {avg_scores['test_acc']}\")\n",
        "print(f\"Recall: {avg_scores['test_rec']}\")\n",
        "print(f\"Precision: {avg_scores['test_prec']}\")"
      ],
      "metadata": {
        "execution": {
          "iopub.status.busy": "2022-11-24T22:59:11.395101Z",
          "iopub.execute_input": "2022-11-24T22:59:11.395433Z",
          "iopub.status.idle": "2022-11-24T22:59:34.604447Z",
          "shell.execute_reply.started": "2022-11-24T22:59:11.395385Z",
          "shell.execute_reply": "2022-11-24T22:59:34.600930Z"
        },
        "trusted": true,
        "id": "bdqlHePd2THN",
        "outputId": "53926d40-0c95-42a7-9669-c9f54d8f32a0"
      },
      "execution_count": null,
      "outputs": [
        {
          "name": "stderr",
          "text": "/opt/conda/lib/python3.6/site-packages/sklearn/utils/validation.py:475: DataConversionWarning: Data with input dtype int32 was converted to float64 by StandardScaler.\n  warnings.warn(msg, DataConversionWarning)\n/opt/conda/lib/python3.6/site-packages/sklearn/metrics/classification.py:1135: UndefinedMetricWarning: Precision is ill-defined and being set to 0.0 in labels with no predicted samples.\n  'precision', 'predicted', average, warn_for)\n/opt/conda/lib/python3.6/site-packages/sklearn/utils/validation.py:475: DataConversionWarning: Data with input dtype int32 was converted to float64 by StandardScaler.\n  warnings.warn(msg, DataConversionWarning)\n/opt/conda/lib/python3.6/site-packages/sklearn/metrics/classification.py:1135: UndefinedMetricWarning: Precision is ill-defined and being set to 0.0 in labels with no predicted samples.\n  'precision', 'predicted', average, warn_for)\n/opt/conda/lib/python3.6/site-packages/sklearn/utils/validation.py:475: DataConversionWarning: Data with input dtype int32 was converted to float64 by StandardScaler.\n  warnings.warn(msg, DataConversionWarning)\n/opt/conda/lib/python3.6/site-packages/sklearn/metrics/classification.py:1135: UndefinedMetricWarning: Precision is ill-defined and being set to 0.0 in labels with no predicted samples.\n  'precision', 'predicted', average, warn_for)\n/opt/conda/lib/python3.6/site-packages/sklearn/utils/validation.py:475: DataConversionWarning: Data with input dtype int32 was converted to float64 by StandardScaler.\n  warnings.warn(msg, DataConversionWarning)\n",
          "output_type": "stream"
        },
        {
          "name": "stdout",
          "text": "Accuracy: 0.8810483870967742\nRecall: 0.8810483870967742\nPrecision: 0.8605510752688171\n",
          "output_type": "stream"
        },
        {
          "name": "stderr",
          "text": "/opt/conda/lib/python3.6/site-packages/sklearn/metrics/classification.py:1135: UndefinedMetricWarning: Precision is ill-defined and being set to 0.0 in labels with no predicted samples.\n  'precision', 'predicted', average, warn_for)\n",
          "output_type": "stream"
        }
      ]
    },
    {
      "cell_type": "code",
      "source": [
        "pl_mlp = Pipeline(steps=[('scaler',StandardScaler()),\n",
        "                             ('mlp_ann', MLPClassifier(hidden_layer_sizes=(1275, 637)))])\n",
        "scoring = {'acc': 'accuracy',\n",
        "           'rec': 'recall_macro',\n",
        "           'prec': 'precision_macro'}\n",
        "scores = cross_validate(pl_mlp, X, y, cv=4,scoring=scoring)\n",
        "avg_scores = {}\n",
        "for mets, vals in scores.items():\n",
        "  \n",
        "    avg_scores[mets] = sum(vals)/ float(len(vals))\n",
        "    \n",
        "print(f\"Accuracy: {avg_scores['test_acc']}\")\n",
        "print(f\"Recall: {avg_scores['test_rec']}\")\n",
        "print(f\"Precision: {avg_scores['test_prec']}\")"
      ],
      "metadata": {
        "execution": {
          "iopub.status.busy": "2022-11-24T23:00:54.920078Z",
          "iopub.execute_input": "2022-11-24T23:00:54.920777Z",
          "iopub.status.idle": "2022-11-24T23:01:17.451118Z",
          "shell.execute_reply.started": "2022-11-24T23:00:54.920697Z",
          "shell.execute_reply": "2022-11-24T23:01:17.450167Z"
        },
        "trusted": true,
        "id": "qRPSqyqH2THO",
        "outputId": "e50efd7b-40c7-46df-b71f-8113b831913f"
      },
      "execution_count": null,
      "outputs": [
        {
          "name": "stderr",
          "text": "/opt/conda/lib/python3.6/site-packages/sklearn/utils/validation.py:475: DataConversionWarning: Data with input dtype int32 was converted to float64 by StandardScaler.\n  warnings.warn(msg, DataConversionWarning)\n/opt/conda/lib/python3.6/site-packages/sklearn/metrics/classification.py:1135: UndefinedMetricWarning: Precision is ill-defined and being set to 0.0 in labels with no predicted samples.\n  'precision', 'predicted', average, warn_for)\n/opt/conda/lib/python3.6/site-packages/sklearn/utils/validation.py:475: DataConversionWarning: Data with input dtype int32 was converted to float64 by StandardScaler.\n  warnings.warn(msg, DataConversionWarning)\n/opt/conda/lib/python3.6/site-packages/sklearn/metrics/classification.py:1135: UndefinedMetricWarning: Precision is ill-defined and being set to 0.0 in labels with no predicted samples.\n  'precision', 'predicted', average, warn_for)\n/opt/conda/lib/python3.6/site-packages/sklearn/utils/validation.py:475: DataConversionWarning: Data with input dtype int32 was converted to float64 by StandardScaler.\n  warnings.warn(msg, DataConversionWarning)\n/opt/conda/lib/python3.6/site-packages/sklearn/metrics/classification.py:1135: UndefinedMetricWarning: Precision is ill-defined and being set to 0.0 in labels with no predicted samples.\n  'precision', 'predicted', average, warn_for)\n/opt/conda/lib/python3.6/site-packages/sklearn/utils/validation.py:475: DataConversionWarning: Data with input dtype int32 was converted to float64 by StandardScaler.\n  warnings.warn(msg, DataConversionWarning)\n",
          "output_type": "stream"
        },
        {
          "name": "stdout",
          "text": "Accuracy: 0.8313172043010753\nRecall: 0.8313172043010753\nPrecision: 0.7855510752688171\n",
          "output_type": "stream"
        },
        {
          "name": "stderr",
          "text": "/opt/conda/lib/python3.6/site-packages/sklearn/metrics/classification.py:1135: UndefinedMetricWarning: Precision is ill-defined and being set to 0.0 in labels with no predicted samples.\n  'precision', 'predicted', average, warn_for)\n",
          "output_type": "stream"
        }
      ]
    },
    {
      "cell_type": "code",
      "source": [
        "\n",
        "pl_random_forest = Pipeline(steps=[('random_forest', RandomForestClassifier())])\n",
        "scoring = {'acc': 'accuracy',\n",
        "           'rec': 'recall_macro',\n",
        "           'prec': 'precision_macro'}\n",
        "scores = cross_validate(pl_random_forest, X, y, cv=4,scoring=scoring)\n",
        "avg_scores = {}\n",
        "for mets, vals in scores.items():\n",
        "   \n",
        "    avg_scores[mets] = sum(vals)/ float(len(vals))\n",
        "    \n",
        "print(f\"Accuracy: {avg_scores['test_acc']}\")\n",
        "print(f\"Recall: {avg_scores['test_rec']}\")\n",
        "print(f\"Precision: {avg_scores['test_prec']}\")"
      ],
      "metadata": {
        "execution": {
          "iopub.status.busy": "2022-11-24T23:02:44.543068Z",
          "iopub.execute_input": "2022-11-24T23:02:44.543453Z",
          "iopub.status.idle": "2022-11-24T23:02:44.964377Z",
          "shell.execute_reply.started": "2022-11-24T23:02:44.543404Z",
          "shell.execute_reply": "2022-11-24T23:02:44.963252Z"
        },
        "trusted": true,
        "id": "kEVokrr42THQ",
        "outputId": "7829ae14-6af0-45ba-eb2b-37f7e728a5c1"
      },
      "execution_count": null,
      "outputs": [
        {
          "name": "stderr",
          "text": "/opt/conda/lib/python3.6/site-packages/sklearn/metrics/classification.py:1135: UndefinedMetricWarning: Precision is ill-defined and being set to 0.0 in labels with no predicted samples.\n  'precision', 'predicted', average, warn_for)\n/opt/conda/lib/python3.6/site-packages/sklearn/metrics/classification.py:1135: UndefinedMetricWarning: Precision is ill-defined and being set to 0.0 in labels with no predicted samples.\n  'precision', 'predicted', average, warn_for)\n/opt/conda/lib/python3.6/site-packages/sklearn/metrics/classification.py:1135: UndefinedMetricWarning: Precision is ill-defined and being set to 0.0 in labels with no predicted samples.\n  'precision', 'predicted', average, warn_for)\n",
          "output_type": "stream"
        },
        {
          "name": "stdout",
          "text": "Accuracy: 0.8192204301075269\nRecall: 0.8192204301075269\nPrecision: 0.8233678955453149\n",
          "output_type": "stream"
        },
        {
          "name": "stderr",
          "text": "/opt/conda/lib/python3.6/site-packages/sklearn/metrics/classification.py:1135: UndefinedMetricWarning: Precision is ill-defined and being set to 0.0 in labels with no predicted samples.\n  'precision', 'predicted', average, warn_for)\n",
          "output_type": "stream"
        }
      ]
    },
    {
      "cell_type": "code",
      "source": [
        "idx=np.random.randint(len(X_test))\n",
        "print('Pred:',targetLabelEncoder.inverse_transform(LC.predict([X_test[idx]]))[0])\n",
        "print('Actual:',targetLabelEncoder.inverse_transform(y_test[idx]))"
      ],
      "metadata": {
        "_uuid": "bde1de6a6d8b1381dcd79239565d533efb772ac7",
        "execution": {
          "iopub.status.busy": "2022-11-24T11:17:58.701496Z",
          "iopub.execute_input": "2022-11-24T11:17:58.702199Z",
          "iopub.status.idle": "2022-11-24T11:17:58.715741Z",
          "shell.execute_reply.started": "2022-11-24T11:17:58.702139Z",
          "shell.execute_reply": "2022-11-24T11:17:58.714204Z"
        },
        "trusted": true,
        "id": "N_oYRc9j2THT",
        "outputId": "dffdf106-49a8-4bfc-daea-d101ca26dfa1"
      },
      "execution_count": null,
      "outputs": [
        {
          "name": "stdout",
          "text": "Pred: G2\nActual: G2\n",
          "output_type": "stream"
        },
        {
          "name": "stderr",
          "text": "/opt/conda/lib/python3.6/site-packages/sklearn/preprocessing/label.py:151: DeprecationWarning: The truth value of an empty array is ambiguous. Returning False, but in future this will result in an error. Use `array.size > 0` to check that an array is not empty.\n  if diff:\n/opt/conda/lib/python3.6/site-packages/sklearn/preprocessing/label.py:151: DeprecationWarning: The truth value of an empty array is ambiguous. Returning False, but in future this will result in an error. Use `array.size > 0` to check that an array is not empty.\n  if diff:\n",
          "output_type": "stream"
        }
      ]
    }
  ]
}