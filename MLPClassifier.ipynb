{
  "nbformat": 4,
  "nbformat_minor": 0,
  "metadata": {
    "colab": {
      "provenance": []
    },
    "kernelspec": {
      "name": "python3",
      "display_name": "Python 3"
    },
    "language_info": {
      "name": "python"
    }
  },
  "cells": [
    {
      "cell_type": "code",
      "execution_count": null,
      "metadata": {
        "id": "Lxs0d0aIM92n"
      },
      "outputs": [],
      "source": [
        "import numpy as np # linear algebra\n",
        "import pandas as pd # data processing, CSV file I/O (e.g. pd.read_csv)\n",
        "\n",
        "# Input data files are available in the \"../input/\" directory.\n",
        "# For example, running this (by clicking run or pressing Shift+Enter) will list the files in the input directory\n",
        "\n",
        "import os\n",
        "\n",
        "import librosa\n",
        "from librosa import display as dsp\n",
        "from matplotlib import pyplot as plt\n",
        "from keras.utils import to_categorical\n",
        "from keras_preprocessing.sequence import pad_sequences\n",
        "from sklearn.preprocessing import LabelEncoder\n",
        "from sklearn.model_selection import train_test_split\n",
        "from keras.models import Sequential"
      ]
    },
    {
      "cell_type": "code",
      "source": [
        "from google.colab import drive\n",
        "drive.mount('/content/drive')"
      ],
      "metadata": {
        "colab": {
          "base_uri": "https://localhost:8080/"
        },
        "id": "reVPkHFzPaT8",
        "outputId": "3f73fc4d-6c0f-4a70-ffd1-2074fef14840"
      },
      "execution_count": null,
      "outputs": [
        {
          "output_type": "stream",
          "name": "stdout",
          "text": [
            "Drive already mounted at /content/drive; to attempt to forcibly remount, call drive.mount(\"/content/drive\", force_remount=True).\n"
          ]
        }
      ]
    },
    {
      "cell_type": "code",
      "source": [
        "soundFilesList=os.listdir('/content/drive/MyDrive/Colab Notebooks/GuitarNotes')"
      ],
      "metadata": {
        "id": "1ih9n8nUP61q"
      },
      "execution_count": null,
      "outputs": []
    },
    {
      "cell_type": "code",
      "source": [
        "def manipulate(data, noise_factor):\n",
        "    noise = np.random.randn(len(data))\n",
        "    augmented_data = data + noise_factor * noise\n",
        "    # Cast back to same data type\n",
        "    augmented_data = augmented_data.astype(type(data[0]))\n",
        "    return augmented_data\n",
        "\n",
        "soundLabel=[]\n",
        "soundData=[]\n",
        "rawData=[]\n",
        "baseDir='/content/drive/MyDrive/Colab Notebooks/GuitarNotes/'\n",
        "mfccSingularList=list()\n",
        "for file in soundFilesList:\n",
        "    filename = str.split(file,'.')[0]\n",
        "    tempAudioData=list()\n",
        "    audioData,sampleRate=librosa.core.load(baseDir+file,res_type='kaiser_fast')\n",
        "    rawData.append(audioData)\n",
        "    spectralData=librosa.feature.spectral_bandwidth(y=audioData,sr=sampleRate)\n",
        "    for sd in spectralData:\n",
        "        tempAudioData.append(sd)\n",
        "    soundData.append(tempAudioData)\n",
        "    soundLabel.append(filename)\n",
        "\n",
        "    tempAudioData1=list()\n",
        "    augmentedData1 = manipulate(audioData, 0.0001)\n",
        "    rawData.append(augmentedData1)\n",
        "    spectralData=librosa.feature.spectral_bandwidth(y=augmentedData1,sr=sampleRate)\n",
        "    for sd in spectralData:\n",
        "        tempAudioData1.append(sd)\n",
        "    soundData.append(tempAudioData1)\n",
        "    soundLabel.append(filename)\n",
        "\n",
        "    tempAudioData2=list()\n",
        "    augmentedData2 = manipulate(audioData, 0.00001)\n",
        "    rawData.append(augmentedData2)\n",
        "    spectralData=librosa.feature.spectral_bandwidth(y=augmentedData2,sr=sampleRate)\n",
        "    for sd in spectralData:\n",
        "        tempAudioData2.append(sd)\n",
        "    soundData.append(tempAudioData2)\n",
        "    soundLabel.append(filename)\n",
        "\n",
        "    tempAudioData3=list()\n",
        "    augmentedData3 = manipulate(audioData, 0.00002)\n",
        "    rawData.append(augmentedData3)\n",
        "    spectralData=librosa.feature.spectral_bandwidth(y=augmentedData3,sr=sampleRate)\n",
        "    for sd in spectralData:\n",
        "        tempAudioData3.append(sd)\n",
        "    soundData.append(tempAudioData3)\n",
        "    soundLabel.append(filename)\n",
        "\n",
        "    tempAudioData4=list()\n",
        "    augmentedData4 = manipulate(audioData, 0.000004)\n",
        "    rawData.append(augmentedData4)\n",
        "    spectralData=librosa.feature.spectral_bandwidth(y=augmentedData4,sr=sampleRate)\n",
        "    for sd in spectralData:\n",
        "        tempAudioData4.append(sd)\n",
        "    soundData.append(tempAudioData4)\n",
        "    soundLabel.append(filename)    \n",
        "    \n",
        "    tempAudioData5=list()\n",
        "    augmentedData5 = manipulate(audioData, 0.000013)\n",
        "    rawData.append(augmentedData5)\n",
        "    spectralData=librosa.feature.spectral_bandwidth(y=augmentedData5,sr=sampleRate)\n",
        "    for sd in spectralData:\n",
        "        tempAudioData5.append(sd)\n",
        "    soundData.append(tempAudioData5)\n",
        "    soundLabel.append(filename)\n",
        "\n",
        "    tempAudioData6=list()\n",
        "    augmentedData6 = manipulate(audioData, 0.000053)\n",
        "    rawData.append(augmentedData6)\n",
        "    spectralData=librosa.feature.spectral_bandwidth(y=augmentedData6,sr=sampleRate)\n",
        "    for sd in spectralData:\n",
        "        tempAudioData6.append(sd)\n",
        "    soundData.append(tempAudioData6)\n",
        "    soundLabel.append(filename)\n",
        "\n",
        "    tempAudioData7=list()\n",
        "    augmentedData7 = manipulate(audioData, 0.0003)\n",
        "    rawData.append(augmentedData7)\n",
        "    spectralData=librosa.feature.spectral_bandwidth(y=augmentedData7,sr=sampleRate)\n",
        "    for sd in spectralData:\n",
        "        tempAudioData7.append(sd)\n",
        "    soundData.append(tempAudioData7)\n",
        "    soundLabel.append(filename)\n",
        "\n",
        "    tempAudioData8=list()\n",
        "    augmentedData8 = manipulate(audioData, 0.00009)\n",
        "    rawData.append(augmentedData8)\n",
        "    spectralData=librosa.feature.spectral_bandwidth(y=augmentedData8,sr=sampleRate)\n",
        "    for sd in spectralData:\n",
        "        tempAudioData8.append(sd)\n",
        "    soundData.append(tempAudioData8)\n",
        "    soundLabel.append(filename)\n",
        "\n",
        "\n",
        "print('Done')"
      ],
      "metadata": {
        "id": "4wqIHRN0P7Hk",
        "colab": {
          "base_uri": "https://localhost:8080/"
        },
        "outputId": "e4364784-7047-4f7b-d548-614b0fed7fb8"
      },
      "execution_count": null,
      "outputs": [
        {
          "output_type": "stream",
          "name": "stdout",
          "text": [
            "Done\n"
          ]
        }
      ]
    },
    {
      "cell_type": "code",
      "source": [
        "idx=np.random.randint(len(soundData))\n",
        "\n",
        "plt.plot(rawData[idx])\n",
        "plt.xlabel(soundLabel[idx])\n",
        "plt.show()\n",
        "plt.plot(soundData[idx][0])\n",
        "plt.grid()\n",
        "plt.show()\n"
      ],
      "metadata": {
        "id": "om_5vSEWP7bT",
        "colab": {
          "base_uri": "https://localhost:8080/",
          "height": 527
        },
        "outputId": "276cac07-adef-4ed7-d9d9-23fd928defeb"
      },
      "execution_count": null,
      "outputs": [
        {
          "output_type": "display_data",
          "data": {
            "text/plain": [
              "<Figure size 432x288 with 1 Axes>"
            ],
            "image/png": "[encoded data removed]"
          },
          "metadata": {
            "needs_background": "light"
          }
        },
        {
          "output_type": "display_data",
          "data": {
            "text/plain": [
              "<Figure size 432x288 with 1 Axes>"
            ],
            "image/png": "[encoded data removed]"
          },
          "metadata": {
            "needs_background": "light"
          }
        }
      ]
    },
    {
      "cell_type": "code",
      "source": [
        "X=[]\n",
        "for s in soundData:\n",
        "    for val in s:\n",
        "        X.append(val)"
      ],
      "metadata": {
        "id": "wAV8x1d6Q5hE"
      },
      "execution_count": null,
      "outputs": []
    },
    {
      "cell_type": "code",
      "source": [
        "print(max([len(x) for x in X]))\n",
        "maxlen=max([len(x) for x in X])\n",
        "X=pad_sequences(X,maxlen=maxlen)\n",
        "np.shape(X)\n",
        "print(len(soundLabel))"
      ],
      "metadata": {
        "colab": {
          "base_uri": "https://localhost:8080/"
        },
        "id": "PryF4G1wQ5ux",
        "outputId": "0d2b6def-05ef-48fb-c59e-d3bf0e396a5f"
      },
      "execution_count": null,
      "outputs": [
        {
          "output_type": "stream",
          "name": "stdout",
          "text": [
            "154\n",
            "558\n"
          ]
        }
      ]
    },
    {
      "cell_type": "code",
      "source": [
        "idx=np.random.randint(len(X))\n",
        "plt.plot(soundData[idx][0])\n",
        "plt.ylabel(soundLabel[idx])\n",
        "plt.grid()\n",
        "plt.show()"
      ],
      "metadata": {
        "colab": {
          "base_uri": "https://localhost:8080/",
          "height": 265
        },
        "id": "8cYMGe6cY2za",
        "outputId": "a56ca323-7dd1-4ced-cf03-8a5235e43dee"
      },
      "execution_count": null,
      "outputs": [
        {
          "output_type": "display_data",
          "data": {
            "text/plain": [
              "<Figure size 432x288 with 1 Axes>"
            ],
            "image/png": "[encoded data removed]"
          },
          "metadata": {
            "needs_background": "light"
          }
        }
      ]
    },
    {
      "cell_type": "code",
      "source": [
        "np.shape(X)"
      ],
      "metadata": {
        "colab": {
          "base_uri": "https://localhost:8080/"
        },
        "id": "Aqpl6qZupO47",
        "outputId": "d061e0ca-c72d-4192-f60e-e27f5f8afccc"
      },
      "execution_count": null,
      "outputs": [
        {
          "output_type": "execute_result",
          "data": {
            "text/plain": [
              "(558, 154)"
            ]
          },
          "metadata": {},
          "execution_count": 12
        }
      ]
    },
    {
      "cell_type": "code",
      "source": [
        "num_classes=len(set(soundLabel))\n",
        "num_classes"
      ],
      "metadata": {
        "colab": {
          "base_uri": "https://localhost:8080/"
        },
        "id": "vzCL1PSMpPJD",
        "outputId": "1f0cc7ac-aad9-44b2-a739-3bb05bec1f27"
      },
      "execution_count": null,
      "outputs": [
        {
          "output_type": "execute_result",
          "data": {
            "text/plain": [
              "62"
            ]
          },
          "metadata": {},
          "execution_count": 13
        }
      ]
    },
    {
      "cell_type": "code",
      "source": [
        "targetLabelEncoder=LabelEncoder()\n",
        "y=targetLabelEncoder.fit_transform(soundLabel)\n",
        "#X=X.reshape(X.shape[0],X.shape[1],1)\n",
        "#y=to_categorical(y=target,num_classes=num_classes)\n",
        "#input_shape=(X.shape[1],1)"
      ],
      "metadata": {
        "id": "-3NNpdOapZOo"
      },
      "execution_count": null,
      "outputs": []
    },
    {
      "cell_type": "code",
      "source": [
        "np.shape(X),np.shape(y)"
      ],
      "metadata": {
        "colab": {
          "base_uri": "https://localhost:8080/"
        },
        "id": "TMKWSn3bpiiG",
        "outputId": "c48f03a0-e662-4f6c-8eb7-4ba79b1dd42b"
      },
      "execution_count": null,
      "outputs": [
        {
          "output_type": "execute_result",
          "data": {
            "text/plain": [
              "((558, 154), (558,))"
            ]
          },
          "metadata": {},
          "execution_count": 15
        }
      ]
    },
    {
      "cell_type": "code",
      "source": [
        "from sklearn.svm import SVC\n",
        "from sklearn.neural_network import MLPClassifier"
      ],
      "metadata": {
        "id": "DYElnVAkpl_d"
      },
      "execution_count": null,
      "outputs": []
    },
    {
      "cell_type": "code",
      "source": [
        "X_train,X_test,y_train,y_test=train_test_split(X,y,train_size=0.80,test_size=0.20,random_state=43)\n",
        "mlpClf=MLPClassifier(hidden_layer_sizes = (120, 60, 90), random_state=1)\n",
        "print(mlpClf.get_params())\n",
        "mlpClf.fit(X_train, y_train)\n",
        "print('Accuracy:', mlpClf.score(X_test,y_test))"
      ],
      "metadata": {
        "colab": {
          "base_uri": "https://localhost:8080/"
        },
        "id": "hXnBPlI0pqnK",
        "outputId": "dceb0331-0a93-48a7-d9f6-2ee1dc919192"
      },
      "execution_count": null,
      "outputs": [
        {
          "output_type": "stream",
          "name": "stdout",
          "text": [
            "{'activation': 'relu', 'alpha': 0.0001, 'batch_size': 'auto', 'beta_1': 0.9, 'beta_2': 0.999, 'early_stopping': False, 'epsilon': 1e-08, 'hidden_layer_sizes': (120, 60, 90), 'learning_rate': 'constant', 'learning_rate_init': 0.001, 'max_fun': 15000, 'max_iter': 200, 'momentum': 0.9, 'n_iter_no_change': 10, 'nesterovs_momentum': True, 'power_t': 0.5, 'random_state': 1, 'shuffle': True, 'solver': 'adam', 'tol': 0.0001, 'validation_fraction': 0.1, 'verbose': False, 'warm_start': False}\n",
            "Accuracy: 0.8303571428571429\n"
          ]
        }
      ]
    },
    {
      "cell_type": "code",
      "source": [
        "idx=np.random.randint(len(X_test))\n",
        "print('Pred:',targetLabelEncoder.inverse_transform(mlpClf.predict([X_test[idx]]))[0])\n",
        "print('Actual:',targetLabelEncoder.inverse_transform(y_test)[idx])"
      ],
      "metadata": {
        "colab": {
          "base_uri": "https://localhost:8080/"
        },
        "id": "ZiEoDFwKpuqi",
        "outputId": "29467ec3-7bfc-49c5-965a-5024f1048b72"
      },
      "execution_count": null,
      "outputs": [
        {
          "output_type": "stream",
          "name": "stdout",
          "text": [
            "Pred: (Scale6) La\n",
            "Actual: A8\n"
          ]
        }
      ]
    }
  ]
}